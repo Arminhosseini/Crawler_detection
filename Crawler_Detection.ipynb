{
  "nbformat": 4,
  "nbformat_minor": 0,
  "metadata": {
    "colab": {
      "name": "Crawler_Detection.ipynb",
      "provenance": [],
      "collapsed_sections": [],
      "authorship_tag": "ABX9TyNEhnQsqROnElQ4ZMIbYbMp",
      "include_colab_link": true
    },
    "kernelspec": {
      "name": "python3",
      "display_name": "Python 3"
    },
    "language_info": {
      "name": "python"
    }
  },
  "cells": [
    {
      "cell_type": "markdown",
      "metadata": {
        "id": "view-in-github",
        "colab_type": "text"
      },
      "source": [
        "<a href=\"https://colab.research.google.com/github/Arminhosseini/Crawler_detection/blob/main/Crawler_Detection.ipynb\" target=\"_parent\"><img src=\"https://colab.research.google.com/assets/colab-badge.svg\" alt=\"Open In Colab\"/></a>"
      ]
    },
    {
      "cell_type": "code",
      "metadata": {
        "id": "u7u2_cZ1ArpT"
      },
      "source": [
        "!pip install pyyaml ua-parser user-agents minisom flask"
      ],
      "execution_count": null,
      "outputs": []
    },
    {
      "cell_type": "code",
      "metadata": {
        "id": "ZYoNQyYAs3Mk"
      },
      "source": [
        "!wget https://bin.equinox.io/c/4VmDzA7iaHb/ngrok-stable-linux-amd64.zip\n",
        "!unzip -o ngrok-stable-linux-amd64.zip"
      ],
      "execution_count": null,
      "outputs": []
    },
    {
      "cell_type": "code",
      "metadata": {
        "id": "vKZocf-iA4WR"
      },
      "source": [
        "from pydrive.auth import GoogleAuth\n",
        "from pydrive.drive import GoogleDrive\n",
        "from google.colab import auth\n",
        "from oauth2client.client import GoogleCredentials\n",
        "import pandas as pd\n",
        "import numpy as np\n",
        "from sklearn.preprocessing import StandardScaler, LabelEncoder, MinMaxScaler\n",
        "from sklearn.ensemble import IsolationForest\n",
        "import matplotlib.pyplot as plt\n",
        "from user_agents import parse\n",
        "from sklearn.pipeline import Pipeline\n",
        "from sklearn.decomposition import PCA\n",
        "from minisom import MiniSom \n",
        "from matplotlib.patches import RegularPolygon, Ellipse\n",
        "from mpl_toolkits.axes_grid1 import make_axes_locatable\n",
        "from matplotlib import cm, colorbar\n",
        "from matplotlib.lines import Line2D\n",
        "from bokeh.colors import RGB\n",
        "from bokeh.io import curdoc, show, output_notebook\n",
        "from bokeh.transform import factor_mark, factor_cmap\n",
        "from bokeh.models import ColumnDataSource, HoverTool\n",
        "from bokeh.plotting import figure, output_file\n",
        "from flask import Flask, request\n",
        "from IPython import get_ipython\n",
        "from threading import Thread\n",
        "# pd.set_option('display.max_columns', None)\n",
        "# pd.set_option('display.max_rows', None)"
      ],
      "execution_count": 4,
      "outputs": []
    },
    {
      "cell_type": "code",
      "metadata": {
        "id": "F-ORtyi4BADf"
      },
      "source": [
        "auth.authenticate_user()\n",
        "gauth = GoogleAuth()\n",
        "gauth.credentials = GoogleCredentials.get_application_default()\n",
        "drive = GoogleDrive(gauth)"
      ],
      "execution_count": 5,
      "outputs": []
    },
    {
      "cell_type": "markdown",
      "source": [
        "#Loading data from google drive"
      ],
      "metadata": {
        "id": "aMWHpGo9FjpI"
      }
    },
    {
      "cell_type": "code",
      "metadata": {
        "id": "IoeTq14yBDsm"
      },
      "source": [
        "# downloaded = drive.CreateFile({'id':'1NtO5GyJDmK7AV74Jy1_AOx-hZ07YOaah'}) \n",
        "downloaded = drive.CreateFile({'id':'13u_cELSwFzpxU2JbFX2QCQRQ4vysxZyR'}) \n",
        "downloaded.GetContentFile('dataset.txt')  \n",
        "data = pd.read_csv(\"dataset.txt\",\n",
        "                             sep=\"\\t\",\n",
        "                             names=[\"IP\",\t\"Time\",\t\"Method\",\t\"Path\",\t\"StatusCode\",\t\"ResponseLength\",\t\"UserAgent\",\t\"ResponseTime\"])\n",
        "data.head()"
      ],
      "execution_count": null,
      "outputs": []
    },
    {
      "cell_type": "code",
      "metadata": {
        "id": "YH5VMC0iBQBx"
      },
      "source": [
        "data.Time = pd.to_datetime(data.Time)"
      ],
      "execution_count": null,
      "outputs": []
    },
    {
      "cell_type": "code",
      "metadata": {
        "id": "4uyTvpJWBQe3"
      },
      "source": [
        "column_names = [\"click_rate\", \"html_ratio\", \"error_resp\", \"HEAD_req\", \"robot_req\", \"stdDev_depth\", \"conseq_req\"]\n",
        "train_data = pd.DataFrame(columns = column_names)"
      ],
      "execution_count": null,
      "outputs": []
    },
    {
      "cell_type": "code",
      "metadata": {
        "id": "GQorrPTTBS6B"
      },
      "source": [
        "data.ResponseTime.fillna(data.ResponseTime.mean(), inplace=True)"
      ],
      "execution_count": null,
      "outputs": []
    },
    {
      "cell_type": "markdown",
      "source": [
        "#Defining session based on similar IP and user agent within every 5 minutes "
      ],
      "metadata": {
        "id": "aPMlqpRoF0RD"
      }
    },
    {
      "cell_type": "markdown",
      "source": [
        "##Extract click rate feature for every session"
      ],
      "metadata": {
        "id": "GN0CCCmuHH0Y"
      }
    },
    {
      "cell_type": "code",
      "metadata": {
        "id": "jgqXG9dNBU8W"
      },
      "source": [
        "train_data['click_rate'] = data.groupby([\"IP\",\"UserAgent\",pd.Grouper(key='Time', freq='5min')]).apply(lambda x: x.shape[0]).reset_index(name='click_rate')['click_rate']"
      ],
      "execution_count": null,
      "outputs": []
    },
    {
      "cell_type": "markdown",
      "source": [
        "##Extract HTML ratio, which represents HTML requested pages division by other types of content including pictures, etc."
      ],
      "metadata": {
        "id": "y0xVe_RXHNaI"
      }
    },
    {
      "cell_type": "code",
      "metadata": {
        "id": "dKL9nM10BW6K"
      },
      "source": [
        "train_data['html_ratio'] = data.groupby([\"IP\",\"UserAgent\",pd.Grouper(key='Time', freq='5min')])\\\n",
        ".apply(lambda x: (x.Path.str.count('html').sum() / (x.Path.str.count('jpg').sum() + x.Path.str.count('png').sum()))\\\n",
        "       if (x.Path.str.count('jpg').sum() + x.Path.str.count('png').sum()) != 0 else x.Path.str.count('html').sum())\\\n",
        ".reset_index(name='html_ratio')['html_ratio']"
      ],
      "execution_count": null,
      "outputs": []
    },
    {
      "cell_type": "markdown",
      "source": [
        "##Extract ratio of failed requests"
      ],
      "metadata": {
        "id": "r40eQFnGIC0A"
      }
    },
    {
      "cell_type": "code",
      "metadata": {
        "id": "InbpB9-OBZnb"
      },
      "source": [
        "def errorCount(df):\n",
        "        try:\n",
        "            return df.StatusCode.floordiv(100).value_counts(normalize=True)[4]\n",
        "        except:\n",
        "            return 0"
      ],
      "execution_count": null,
      "outputs": []
    },
    {
      "cell_type": "code",
      "metadata": {
        "id": "5ALmXeNDBb9L"
      },
      "source": [
        "train_data['error_resp'] = data.groupby([\"IP\",\"UserAgent\",pd.Grouper(key='Time', freq='5min')])\\\n",
        ".apply(lambda x: errorCount(x) )\\\n",
        ".reset_index(name='error_resp')['error_resp']"
      ],
      "execution_count": null,
      "outputs": []
    },
    {
      "cell_type": "markdown",
      "source": [
        "##Extract ratio of Head requests"
      ],
      "metadata": {
        "id": "ByM14lJ7IVJM"
      }
    },
    {
      "cell_type": "code",
      "metadata": {
        "id": "jWV-WvtSBd_n"
      },
      "source": [
        "def headerCount(df):\n",
        "        try:\n",
        "            return df.Method.value_counts(normalize=True)['Head']\n",
        "        except:\n",
        "            return 0"
      ],
      "execution_count": null,
      "outputs": []
    },
    {
      "cell_type": "code",
      "metadata": {
        "id": "2otT3ct0Bfok"
      },
      "source": [
        "train_data['HEAD_req'] = data.groupby([\"IP\",\"UserAgent\",pd.Grouper(key='Time', freq='5min')])\\\n",
        ".apply(lambda x: headerCount(x) )\\\n",
        ".reset_index(name='HEAD_req')['HEAD_req']"
      ],
      "execution_count": null,
      "outputs": []
    },
    {
      "cell_type": "markdown",
      "source": [
        "##Extract requests which requested robots.txt path"
      ],
      "metadata": {
        "id": "rMl9nbSOIiRP"
      }
    },
    {
      "cell_type": "code",
      "metadata": {
        "id": "vaBvYM8XBhpg"
      },
      "source": [
        "train_data['robot_req'] = data.groupby([\"IP\",\"UserAgent\",pd.Grouper(key='Time', freq='5min')])\\\n",
        ".apply(lambda x: 1 if x.Path.str.count('robots.txt').sum() > 0 else 0 )\\\n",
        ".reset_index(name='robot_req')['robot_req']"
      ],
      "execution_count": null,
      "outputs": []
    },
    {
      "cell_type": "markdown",
      "source": [
        "##Extract standard deviation of requested path"
      ],
      "metadata": {
        "id": "eO1pgo9aIyLo"
      }
    },
    {
      "cell_type": "code",
      "metadata": {
        "id": "LX7WoBc6Bjet"
      },
      "source": [
        "train_data['stdDev_depth'] = data.groupby([\"IP\",\"UserAgent\",pd.Grouper(key='Time', freq='5min')])\\\n",
        ".apply(lambda x: (x.Path.str.split('/').str.len()-1).std() if x.shape[0] > 1 else 0)\\\n",
        ".reset_index(name='stdDev_depth')['stdDev_depth']"
      ],
      "execution_count": null,
      "outputs": []
    },
    {
      "cell_type": "markdown",
      "source": [
        "##Extract if request has sequential path during the session"
      ],
      "metadata": {
        "id": "hpRv0bvmJASx"
      }
    },
    {
      "cell_type": "code",
      "metadata": {
        "id": "2AH-to-GBlfx"
      },
      "source": [
        "train_data['conseq_req'] = data.groupby([\"IP\",\"UserAgent\",pd.Grouper(key='Time', freq='5min')])\\\n",
        ".apply(lambda x: np.count_nonzero(np.where(x.Path.str.split('/', expand=True)[0] == x.Path.str.split('/', expand=True)[1], True, False) == True) )\\\n",
        ".reset_index(name='conseq_req')['conseq_req']"
      ],
      "execution_count": null,
      "outputs": []
    },
    {
      "cell_type": "markdown",
      "source": [
        "##Tag some of the data based on prior knowledge"
      ],
      "metadata": {
        "id": "zHCVC84TJlFw"
      }
    },
    {
      "cell_type": "code",
      "metadata": {
        "id": "E0ftkLkEBnTW"
      },
      "source": [
        "def agentSplit(x):\n",
        "  agent = x['UserAgent'].iloc[0]\n",
        "  parse_agent = parse(agent)\n",
        "  if agent == 'python-requests/2.18.1' or agent == 'Python-urllib/3.7':\n",
        "    return 'Crawler'\n",
        "  elif 'BlackBerry' in agent:\n",
        "    return 'Attacker'\n",
        "  elif (x.Path.str.count('robots.txt').sum() > 0) or x.shape[0] > 50:\n",
        "    return 'malicious'\n",
        "  elif (parse_agent.is_mobile or parse_agent.is_tablet or parse_agent.is_pc) and (x.Path.str.count('robots.txt').sum() == 0):\n",
        "    return 'Human'\n",
        "  elif 'google' in agent or agent == 'Go-http-client' or 'Google' in agent:\n",
        "    return 'Well-behaved'\n",
        "  else:\n",
        "    return 'unknown'"
      ],
      "execution_count": null,
      "outputs": []
    },
    {
      "cell_type": "code",
      "metadata": {
        "id": "TsvF6SSDBpcx"
      },
      "source": [
        "agent_spec = data.groupby([\"IP\",\"UserAgent\",pd.Grouper(key='Time', freq='5min')])\\\n",
        ".apply(lambda x: agentSplit(x))\\\n",
        ".reset_index(name='agent_spec')['agent_spec']"
      ],
      "execution_count": null,
      "outputs": []
    },
    {
      "cell_type": "markdown",
      "source": [
        "#Normalize data and implementing SOM model"
      ],
      "metadata": {
        "id": "1LLmP3w6J4_J"
      }
    },
    {
      "cell_type": "code",
      "metadata": {
        "id": "9S5vQOBzBtWO"
      },
      "source": [
        "# scaler = StandardScaler()\n",
        "scaler = MinMaxScaler()\n",
        "scaled_data = scaler.fit_transform(train_data)"
      ],
      "execution_count": null,
      "outputs": []
    },
    {
      "cell_type": "code",
      "metadata": {
        "id": "og25Z1LgBvS6"
      },
      "source": [
        "som = MiniSom(6, 6, train_data.shape[1], sigma=1.5, learning_rate=0.7, activation_distance='euclidean',\n",
        "              topology='hexagonal', neighborhood_function='gaussian', random_seed=10)"
      ],
      "execution_count": null,
      "outputs": []
    },
    {
      "cell_type": "code",
      "metadata": {
        "id": "yOeVXxE6BxfH"
      },
      "source": [
        "som.train_random(scaled_data, 10000)"
      ],
      "execution_count": null,
      "outputs": []
    },
    {
      "cell_type": "markdown",
      "source": [
        "#Plotting results"
      ],
      "metadata": {
        "id": "zBHpD2T3KV7Y"
      }
    },
    {
      "cell_type": "code",
      "metadata": {
        "colab": {
          "base_uri": "https://localhost:8080/",
          "height": 607
        },
        "id": "QGRjfWmuBzJk",
        "outputId": "b53d8651-f0c6-44f1-a932-80a6264c4d8f"
      },
      "source": [
        "f = plt.figure(figsize=(20, 10))\n",
        "\n",
        "ax = f.add_subplot(231)\n",
        "ax.set_aspect('equal')\n",
        "ax.set_title(\"Attacker\")\n",
        "frequencies = som.activation_response(scaled_data[agent_spec=='Attacker'])\n",
        "plt.pcolor(frequencies.T, cmap='Blues') \n",
        "plt.colorbar()\n",
        "\n",
        "ax = f.add_subplot(232)\n",
        "ax.set_aspect('equal')\n",
        "ax.set_title(\"Crawler\")\n",
        "frequencies = som.activation_response(scaled_data[agent_spec=='Crawler'])\n",
        "plt.pcolor(frequencies.T, cmap='Blues') \n",
        "plt.colorbar()\n",
        "\n",
        "ax = f.add_subplot(233)\n",
        "ax.set_aspect('equal')\n",
        "ax.set_title(\"Human\")\n",
        "frequencies = som.activation_response(scaled_data[agent_spec=='Human'])\n",
        "plt.pcolor(frequencies.T, cmap='Blues') \n",
        "plt.colorbar()\n",
        "\n",
        "ax = f.add_subplot(234)\n",
        "ax.set_aspect('equal')\n",
        "ax.set_title(\"Well-behaved\")\n",
        "frequencies = som.activation_response(scaled_data[agent_spec=='Well-behaved'])\n",
        "plt.pcolor(frequencies.T, cmap='Blues') \n",
        "plt.colorbar()\n",
        "\n",
        "ax = f.add_subplot(235)\n",
        "ax.set_aspect('equal')\n",
        "ax.set_title(\"malicious\")\n",
        "frequencies = som.activation_response(scaled_data[agent_spec=='malicious'])\n",
        "plt.pcolor(frequencies.T, cmap='Blues') \n",
        "plt.colorbar()\n",
        "\n",
        "ax = f.add_subplot(236)\n",
        "ax.set_aspect('equal')\n",
        "ax.set_title(\"unknown\")\n",
        "frequencies = som.activation_response(scaled_data[agent_spec=='unknown'])\n",
        "plt.pcolor(frequencies.T, cmap='Blues') \n",
        "plt.colorbar()\n",
        "\n",
        "plt.show()"
      ],
      "execution_count": null,
      "outputs": [
        {
          "output_type": "display_data",
          "data": {
            "image/png": "[encoded data removed]",
            "text/plain": [
              "<Figure size 1440x720 with 12 Axes>"
            ]
          },
          "metadata": {
            "tags": [],
            "needs_background": "light"
          }
        }
      ]
    },
    {
      "cell_type": "markdown",
      "metadata": {
        "id": "LDN7rSQ1tJMn"
      },
      "source": [
        "#Create REST Api for real time input requests evaluation"
      ]
    },
    {
      "cell_type": "code",
      "metadata": {
        "id": "0W_sqXHWtLKJ"
      },
      "source": [
        "get_ipython().system_raw('python3 app.py &')\n",
        "get_ipython().system_raw('./ngrok http 5000 &')"
      ],
      "execution_count": null,
      "outputs": []
    },
    {
      "cell_type": "code",
      "metadata": {
        "colab": {
          "base_uri": "https://localhost:8080/"
        },
        "id": "QPwPoL_w0YrU",
        "outputId": "7bfd6ffb-7fb3-43cf-b1c4-1e4400e14014"
      },
      "source": [
        "! curl -s http://localhost:4040/api/tunnels | python3 -c \\\n",
        "    \"import sys, json; print(json.load(sys.stdin)['tunnels'][0]['public_url'])\""
      ],
      "execution_count": null,
      "outputs": [
        {
          "output_type": "stream",
          "text": [
            "https://63ad00552850.ngrok.io\n"
          ],
          "name": "stdout"
        }
      ]
    },
    {
      "cell_type": "code",
      "metadata": {
        "id": "G_I0PS9dqQXm"
      },
      "source": [
        "def make_session():\n",
        "  api_data = pd.DataFrame(columns = column_names)\n",
        "  global queue_data\n",
        "  # print(\"in make session: \", queue_data)\n",
        "  IP = queue_data.groupby([\"IP\",\"UserAgent\",pd.Grouper(key='Time', freq='5min')]).apply(lambda x: x['IP'].iloc[0]).reset_index(name='session_ip')['session_ip']\n",
        "\n",
        "  api_data['click_rate'] = queue_data.groupby([\"IP\",\"UserAgent\",pd.Grouper(key='Time', freq='5min')]).apply(lambda x: x.shape[0]).reset_index(name='click_rate')['click_rate']\n",
        "\n",
        "  api_data['html_ratio'] = queue_data.groupby([\"IP\",\"UserAgent\",pd.Grouper(key='Time', freq='5min')])\\\n",
        "  .apply(lambda x: (x.Path.str.count('html').sum() / (x.Path.str.count('jpg').sum() + x.Path.str.count('png').sum()))\\\n",
        "  if (x.Path.str.count('jpg').sum() + x.Path.str.count('png').sum()) != 0 else x.Path.str.count('html').sum())\\\n",
        "  .reset_index(name='html_ratio')['html_ratio']\n",
        "\n",
        "  api_data['error_resp'] = queue_data.groupby([\"IP\",\"UserAgent\",pd.Grouper(key='Time', freq='5min')])\\\n",
        "  .apply(lambda x: errorCount(x) )\\\n",
        "  .reset_index(name='error_resp')['error_resp']\n",
        "\n",
        "  api_data['HEAD_req'] = queue_data.groupby([\"IP\",\"UserAgent\",pd.Grouper(key='Time', freq='5min')])\\\n",
        "  .apply(lambda x: headerCount(x) )\\\n",
        "  .reset_index(name='HEAD_req')['HEAD_req']\n",
        "\n",
        "  api_data['robot_req'] = queue_data.groupby([\"IP\",\"UserAgent\",pd.Grouper(key='Time', freq='5min')])\\\n",
        "  .apply(lambda x: 1 if x.Path.str.count('robots.txt').sum() > 0 else 0 )\\\n",
        "  .reset_index(name='robot_req')['robot_req']\n",
        "\n",
        "  api_data['stdDev_depth'] = queue_data.groupby([\"IP\",\"UserAgent\",pd.Grouper(key='Time', freq='5min')])\\\n",
        "  .apply(lambda x: (x.Path.str.split('/').str.len()-1).std() if x.shape[0] > 1 else 0)\\\n",
        "  .reset_index(name='stdDev_depth')['stdDev_depth']\n",
        "\n",
        "  api_data['conseq_req'] = queue_data.groupby([\"IP\",\"UserAgent\",pd.Grouper(key='Time', freq='5min')])\\\n",
        "  .apply(lambda x: np.count_nonzero(np.where(x.Path.str.split('/', expand=True)[0] == x.Path.str.split('/', expand=True)[1], True, False) == True) )\\\n",
        "  .reset_index(name='conseq_req')['conseq_req']\n",
        "\n",
        "  # print(api_data)\n",
        "  return api_data, IP"
      ],
      "execution_count": null,
      "outputs": []
    },
    {
      "cell_type": "code",
      "metadata": {
        "id": "EGRmmN4-up95"
      },
      "source": [
        "def find_malicious():\n",
        "  sessions, session_ip = make_session()\n",
        "  x_scaled = scaler.fit_transform(sessions)\n",
        "  for cnt, x in enumerate(x_scaled):\n",
        "    w = som.winner(x)\n",
        "    print(\"winnner cell: \", w)\n",
        "    if w == (2, 5):\n",
        "      print(session_ip[cnt], \": attacker\")\n",
        "    elif w == (0, 0) or w == (5, 3):\n",
        "      print(session_ip[cnt], \": crawler\")\n",
        "    elif w == (0, 3) or w == (1, 3) or w == (1, 1):\n",
        "      print(session_ip[cnt], \": malicious\") \n",
        "    elif w != (2, 5) or w != (1, 5) or w != (0, 5) or w != (2, 3):\n",
        "      print(session_ip[cnt], \": maybe malicious\")\n",
        "\n",
        "   "
      ],
      "execution_count": null,
      "outputs": []
    },
    {
      "cell_type": "code",
      "metadata": {
        "id": "cSatsNnhYmbD",
        "colab": {
          "base_uri": "https://localhost:8080/"
        },
        "outputId": "2aa72565-7dc2-4d63-9118-76303c03b146"
      },
      "source": [
        "app = Flask(__name__)\n",
        "queue_data = pd.DataFrame({})\n",
        "\n",
        "@app.route('/senddata', methods=['POST'])\n",
        "def index():\n",
        "    global queue_data\n",
        "    str_x = request.get_data().decode()\n",
        "    splited_x = str_x.split('[')\n",
        "    IP = splited_x[0].split(\" \")[0].split(\"'\")[1]\n",
        "    Time = pd.to_datetime(splited_x[1].split(\"]\")[0])\n",
        "    Method = splited_x[2].split(\" \")[0]\n",
        "    Path = splited_x[2].split(\" \")[1].split(\"]\")[0]\n",
        "    StatusCode = splited_x[2].split(\" \")[2]\n",
        "    ResponseLength = splited_x[2].split(\" \")[3]\n",
        "    UserAgent = splited_x[4].split(\" \")[0].split(\"]\")[0]\n",
        "    ResponseTime = splited_x[4].split(\" \")[1].split(\"'\")[0]\n",
        "    df = pd.DataFrame({\"IP\":[IP],\"Time\":[Time], \"Method\":[Method], \"Path\":[Path],\n",
        "                       \"StatusCode\":[StatusCode], \"ResponseLength\":[ResponseLength], \"UserAgent\":[UserAgent],\n",
        "                       \"ResponseTime\":[ResponseTime]})\n",
        "    queue_data = queue_data.append(df)\n",
        "    # print(\"in flask route: \", queue_data)\n",
        "    thread = Thread(target=find_malicious)\n",
        "    thread.daemon = True\n",
        "    thread.start()\n",
        "    return \"success\"\n",
        "\n",
        "if __name__ == '__main__':\n",
        "  app.run()"
      ],
      "execution_count": null,
      "outputs": [
        {
          "output_type": "stream",
          "text": [
            " * Serving Flask app \"__main__\" (lazy loading)\n",
            " * Environment: production\n",
            "\u001b[31m   WARNING: This is a development server. Do not use it in a production deployment.\u001b[0m\n",
            "\u001b[2m   Use a production WSGI server instead.\u001b[0m\n",
            " * Debug mode: off\n"
          ],
          "name": "stdout"
        },
        {
          "output_type": "stream",
          "text": [
            " * Running on http://127.0.0.1:5000/ (Press CTRL+C to quit)\n"
          ],
          "name": "stderr"
        }
      ]
    }
  ]
}